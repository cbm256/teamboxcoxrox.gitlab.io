{
 "cells": [
  {
   "cell_type": "markdown",
   "id": "governmental-farming",
   "metadata": {},
   "source": [
    "# BOXCOXROX \n",
    "\n",
    "Pseudo product.csv creator.\n",
    "\n",
    "This notebook creates a pseudo version of the main.csv for the boxcoxrox project.  This notebook will create sample csvs for topic, sentiment, and quantiles, and the join them into one master notebook.  \n",
    "\n",
    "The first step will be to create a dataframe that includes a set of asins, and a description.  This will probably come from the metadata for the pet products in the pet.db\n"
   ]
  },
  {
   "cell_type": "code",
   "execution_count": 1,
   "id": "dress-toyota",
   "metadata": {},
   "outputs": [],
   "source": [
    "#!pip install pandas\n",
    "import pandas as pd\n",
    "import random\n",
    "import string\n",
    "\n",
    "def get_asin(N):\n",
    "    return ''.join(random.choice(string.ascii_uppercase + string.digits) for _ in range(N))\n",
    "\n",
    "asins = [get_asin(10) for x in range(0,1000)]\n",
    "asins = [x for x in set(asins)]\n",
    "products_df = pd.DataFrame(asins)\n",
    "products_df.columns = ['asin']\n",
    "products_df['description'] = [\"Prod description for {}\".format(x) for x in asins]\n",
    "products_df.head()\n",
    "products_df.to_csv(\"mock_products_df.csv\", index=False)"
   ]
  },
  {
   "cell_type": "markdown",
   "id": "surprised-exchange",
   "metadata": {},
   "source": [
    "## Sample LDA Topic csv...\n",
    "\n",
    "This code will create a csv with the ASINS defined above, and a random topic and topic description."
   ]
  },
  {
   "cell_type": "code",
   "execution_count": 2,
   "id": "nutritional-adolescent",
   "metadata": {},
   "outputs": [],
   "source": [
    "LDA_df = pd.DataFrame(asins)\n",
    "LDA_df.columns = ['asin']\n",
    "\n",
    "topics = [random.choice(range(0,12)) for x in range(len(LDA_df))]\n",
    "LDA_df['topic']=topics\n",
    "\n",
    "desc = [\"Topic description for {}\".format(x) for x in topics]\n",
    "LDA_df['topic_description'] = desc\n",
    "LDA_df.head()\n",
    "LDA_df.to_csv(\"mock_LDA_df.csv\", index=False)"
   ]
  },
  {
   "cell_type": "markdown",
   "id": "piano-preference",
   "metadata": {},
   "source": [
    "## Sentiment csv\n",
    "\n",
    "This code will generate a mock sentiment score csv. "
   ]
  },
  {
   "cell_type": "code",
   "execution_count": 3,
   "id": "oriented-marking",
   "metadata": {},
   "outputs": [],
   "source": [
    "sentiment_df = pd.DataFrame(asins)\n",
    "sentiment_df.columns = ['asin']\n",
    "\n",
    "sentiment = [-1 + (2 * random.random()) for x in range(len(sentiment_df))]\n",
    "sentiment_df['sentiment'] = sentiment\n",
    "sentiment_df.head()\n",
    "sentiment_df.to_csv(\"mock_sentiment_df.csv\", index=False)"
   ]
  },
  {
   "cell_type": "markdown",
   "id": "neutral-inspection",
   "metadata": {},
   "source": [
    "## Quantiles\n",
    "\n",
    "The following code will generate a random quantile rating for the products.  This will be done by sorting the asin, and then assinging a rank number based on that sort.  The quantiles are configured so that they range from 0 to 1.  (This is essentiall the scaled rank from 0-1)\n"
   ]
  },
  {
   "cell_type": "code",
   "execution_count": 4,
   "id": "formed-advocacy",
   "metadata": {},
   "outputs": [],
   "source": [
    "quantiles_df = pd.DataFrame(asins)\n",
    "quantiles_df.columns = ['asin']\n",
    "\n",
    "# preserve the original order\n",
    "quantiles_df['order'] = [x for x in range(len(quantiles_df))]\n",
    "\n",
    "# sort the data by the asin\n",
    "quantiles_df.set_index(\"asin\", inplace=True)\n",
    "quantiles_df.sort_values(by=['asin'], inplace=True)\n",
    "\n",
    "# assign a rank column based on the new order\n",
    "quantiles_df['rank'] = [x for x in range(len(quantiles_df))]\n",
    "\n",
    "# calculate the quantile column based on the rank\n",
    "quantiles_df['quantile'] = quantiles_df['rank']/len(quantiles_df)\n",
    "\n",
    "# resort the dataframe by the original order\n",
    "quantiles_df.sort_values(by= ['order'], inplace=True)\n",
    "\n",
    "# preserve only the asin and quantile column\n",
    "quantiles_df.reset_index(inplace=True)\n",
    "quantiles_df = quantiles_df[['asin', 'quantile']]\n",
    "\n",
    "# ensure that the quantiles range from 0 to 1\n",
    "assert max(quantiles_df['quantile'])>0.998\n",
    "assert min(quantiles_df['quantile'])<0.001\n",
    "\n",
    "quantiles_df.head()\n",
    "quantiles_df.to_csv(\"mock_quantiles_df.csv\", index=False)"
   ]
  }
 ],
 "metadata": {
  "kernelspec": {
   "display_name": "Python 3",
   "language": "python",
   "name": "python3"
  },
  "language_info": {
   "codemirror_mode": {
    "name": "ipython",
    "version": 3
   },
   "file_extension": ".py",
   "mimetype": "text/x-python",
   "name": "python",
   "nbconvert_exporter": "python",
   "pygments_lexer": "ipython3",
   "version": "3.7.10"
  }
 },
 "nbformat": 4,
 "nbformat_minor": 5
}
