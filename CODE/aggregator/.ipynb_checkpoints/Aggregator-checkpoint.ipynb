{
 "cells": [
  {
   "cell_type": "markdown",
   "id": "noted-remainder",
   "metadata": {},
   "source": [
    "# Aggregator\n",
    "\n",
    "The purpose of this notebook is to aggregate the product, LDA, sentiment, and quantile datasets into a single main csv that will be used as the input to visualization."
   ]
  },
  {
   "cell_type": "code",
   "execution_count": 13,
   "id": "short-competition",
   "metadata": {},
   "outputs": [
    {
     "name": "stdout",
     "output_type": "stream",
     "text": [
      "Main rows:      1000\n",
      "Product rows:   1000\n",
      "LDA rows:       1000\n",
      "Sentiment rows: 1000\n",
      "Quantiles rows: 1000\n",
      "Ok.\n"
     ]
    }
   ],
   "source": [
    "import pandas as pd\n",
    "\n",
    "product_filename = \"mock_products_df.csv\"\n",
    "lda_filename = \"mock_LDA_df.csv\"\n",
    "sentiment_filename = \"mock_sentiment_df.csv\"\n",
    "quantiles_filename = \"mock_quantiles_df.csv\"\n",
    "\n",
    "prod_df = pd.read_csv(product_filename)\n",
    "lda_df = pd.read_csv(lda_filename)\n",
    "sentiment_df = pd.read_csv(sentiment_filename)\n",
    "quantiles_df = pd.read_csv(quantiles_filename)\n",
    "\n",
    "main_df = prod_df.merge(lda_df, on=\"asin\")\n",
    "main_df = main_df.merge(sentiment_df, on=\"asin\")\n",
    "main_df = main_df.merge(quantiles_df, on=\"asin\")\n",
    "main_df.to_csv(\"mock_main_df.csv\", index=False)\n",
    "main_df.head()\n",
    "\n",
    "## Sanity check\n",
    "print(\"Main rows:      {}\".format(len(main_df)))\n",
    "print(\"Product rows:   {}\".format(len(prod_df)))\n",
    "print(\"LDA rows:       {}\".format(len(lda_df)))\n",
    "print(\"Sentiment rows: {}\".format(len(sentiment_df)))\n",
    "print(\"Quantiles rows: {}\".format(len(quantiles_df)))\n",
    "\n",
    "assert len(main_df)==len(prod_df)\n",
    "assert len(main_df)==len(lda_df)\n",
    "assert len(main_df)==len(sentiment_df)\n",
    "assert len(main_df)==len(quantiles_df)\n",
    "\n",
    "print(\"Ok.\")\n"
   ]
  }
 ],
 "metadata": {
  "kernelspec": {
   "display_name": "Python 3",
   "language": "python",
   "name": "python3"
  },
  "language_info": {
   "codemirror_mode": {
    "name": "ipython",
    "version": 3
   },
   "file_extension": ".py",
   "mimetype": "text/x-python",
   "name": "python",
   "nbconvert_exporter": "python",
   "pygments_lexer": "ipython3",
   "version": "3.7.10"
  }
 },
 "nbformat": 4,
 "nbformat_minor": 5
}
