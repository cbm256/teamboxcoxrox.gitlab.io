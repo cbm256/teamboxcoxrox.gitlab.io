{
 "cells": [
  {
   "cell_type": "markdown",
   "id": "happy-student",
   "metadata": {},
   "source": [
    "# Boxcoxrox Amazon Product Recommender\n",
    "\n",
    "The purpose of this notebook is to walk through the steps of building the Electronics database used with the boxcoxrox project.  Please note that:\n",
    "\n",
    "- This notebook **WILL DESTROY AND REBUILD THE ENTIRE DATABASE**.  This can take long time 1-2 hours.\n",
    "- This notebook will check if reviews and products archives and json files have been downloaded before downloading them and decompressing them again.\n",
    "\n",
    "The code to perform these tasks are contained in the ReviewHelper and ProductHelper classes in the associated python files in the same directory of this notebook.  Remember, if you make changes to these files, you will need to restart the kernel of this notebook if you wish to access those changes from here.  (The notebook does not dynamically reload classes.)\n"
   ]
  },
  {
   "cell_type": "code",
   "execution_count": 1,
   "id": "configured-dating",
   "metadata": {},
   "outputs": [],
   "source": [
    "from unittest import TestCase\n",
    "from review_helper import ReviewHelper\n",
    "from product_helper import ProductHelper\n",
    "import sqlite3\n",
    "from datetime import datetime\n",
    "notebook_start_time = datetime.now()"
   ]
  },
  {
   "cell_type": "code",
   "execution_count": 2,
   "id": "virtual-history",
   "metadata": {},
   "outputs": [
    {
     "name": "stdout",
     "output_type": "stream",
     "text": [
      "Please enter the source file for amazon reviews: (Enter for default.)\n",
      "Please enter the corresponding metadata source file for the reviews. (Enter for default.)\n"
     ]
    }
   ],
   "source": [
    "review_source = input(\"Please enter the source file for amazon reviews: (Enter for default.)\")\n",
    "if review_source == \"\":\n",
    "    review_source = \"http://deepyeti.ucsd.edu/jianmo/amazon/categoryFiles/Pet_Supplies.json.gz\"\n",
    "    \n",
    "product_source = input(\"Please enter the corresponding metadata source file for the reviews. (Enter for default.)\")\n",
    "if product_source == \"\":\n",
    "    product_source = \"http://deepyeti.ucsd.edu/jianmo/amazon/metaFiles/meta_Pet_Supplies.json.gz\"\n",
    "    \n"
   ]
  },
  {
   "cell_type": "code",
   "execution_count": 3,
   "id": "destroyed-campaign",
   "metadata": {},
   "outputs": [
    {
     "name": "stdout",
     "output_type": "stream",
     "text": [
      "File reviews.gz has been downloaded.\n",
      "File reviews.json has been uncompressed.\n",
      "File products.gz has been downloaded.\n",
      "File products.json has been uncompressed.\n",
      "Time to download and decompress: 0:04:35.047790\n",
      "Finished.\n"
     ]
    }
   ],
   "source": [
    "\n",
    "\n",
    "from download_helper import DownloadHelper\n",
    "dh = DownloadHelper()\n",
    "dh.download(review_source, product_source)\n",
    "\n",
    "\n",
    "print(\"Time to download and decompress: {}\".format(datetime.now()-notebook_start_time))\n",
    "print(\"Finished.\")\n",
    "\n"
   ]
  },
  {
   "cell_type": "code",
   "execution_count": 4,
   "id": "black-dominant",
   "metadata": {},
   "outputs": [
    {
     "name": "stdout",
     "output_type": "stream",
     "text": [
      "Table Dropped.\n",
      "Table Created.\n",
      "Reading data...\n",
      "Elapsed time to load data: 0:00:02.876056\n",
      "Found 6542483 reviews.\n",
      "Inserting reviews...\n",
      "Data inserted in: 0:05:09.990287\n",
      "Creating index.  Be patient.\n",
      "Indexing Done.  Elapsed time: 0:00:03.757688\n",
      "Total elapsed time: 0:05:16.624629\n",
      "Total reviews imported: 6542483\n"
     ]
    }
   ],
   "source": [
    "start_time = datetime.now()\n",
    "\n",
    "rh = ReviewHelper()\n",
    "conn = rh.create_db_connection(\"pets.db\")\n",
    "rh.drop_review_table_sql()\n",
    "print(\"Table Dropped.\")\n",
    "rh.create_review_table_sql()\n",
    "print(\"Table Created.\")\n",
    "rh.DEBUG = False\n",
    "\n",
    "print(\"Reading data...\")\n",
    "with open(\"reviews.json\",\"r\") as reviews:\n",
    "    review_lines = reviews.readlines()\n",
    "print(\"Elapsed time to load data: {}\".format(datetime.now() - start_time))\n",
    "print(\"Found {} reviews.\".format(len(review_lines)))\n",
    "    \n",
    "print(\"Inserting reviews...\")\n",
    "insert_start = datetime.now()\n",
    "rh.insert_json_lines(review_lines)\n",
    "print(\"Data inserted in: {}\".format(datetime.now()-insert_start))\n",
    "\n",
    "print(\"Creating index.  Be patient.\")\n",
    "index_start = datetime.now()\n",
    "rh.create_index()\n",
    "rh.close_db()\n",
    "print(\"Indexing Done.  Elapsed time: {}\".format(datetime.now() - index_start))\n",
    "print(\"Total elapsed time: {}\".format(datetime.now() - start_time))\n",
    "print(\"Total reviews imported: {}\".format(len(review_lines)))"
   ]
  },
  {
   "cell_type": "code",
   "execution_count": 3,
   "id": "white-spread",
   "metadata": {},
   "outputs": [
    {
     "name": "stdout",
     "output_type": "stream",
     "text": [
      "Table Dropped.\n",
      "Table Created.\n",
      "Reading data...\n",
      "Elapsed time to load data: 0:01:39.866054\n",
      "Found 786445 products.\n",
      "Inserting products...\n",
      "Data inserted in: 0:02:33.295672\n",
      "Creating index.  Be patient.\n",
      "Indexing Done.  Elapsed time: 0:01:44.933846\n",
      "Total elapsed time: 0:05:58.153480\n",
      "Total product imported: 786445\n",
      "Full time to download notebook: 0:31:11.810832\n"
     ]
    }
   ],
   "source": [
    "ph = ProductHelper()\n",
    "conn = ph.create_db_connection(\"pets.db\")\n",
    "ph.drop_product_table()\n",
    "print(\"Table Dropped.\")\n",
    "ph.create_product_table()\n",
    "print(\"Table Created.\")\n",
    "ph.DEBUG = False\n",
    "start_time = datetime.now()\n",
    "print(\"Reading data...\")\n",
    "with open(\"products.json\",\"r\") as products:\n",
    "    product_lines = products.readlines()\n",
    "print(\"Elapsed time to load data: {}\".format(datetime.now() - start_time))\n",
    "print(\"Found {} products.\".format(len(product_lines)))\n",
    "    \n",
    "print(\"Inserting products...\")\n",
    "insert_start = datetime.now()\n",
    "ph.insert_json_lines(product_lines)\n",
    "print(\"Data inserted in: {}\".format(datetime.now()-insert_start))\n",
    "\n",
    "print(\"Creating index.  Be patient.\")\n",
    "index_start = datetime.now()\n",
    "ph.create_index()\n",
    "ph.close_db()\n",
    "print(\"Indexing Done.  Elapsed time: {}\".format(datetime.now() - index_start))\n",
    "print(\"Total elapsed time: {}\".format(datetime.now() - start_time))\n",
    "print(\"Total product imported: {}\".format(len(product_lines)))\n",
    "print(\"Full time to download notebook: {}\".format(datetime.now()-notebook_start_time))"
   ]
  }
 ],
 "metadata": {
  "kernelspec": {
   "display_name": "Python 3",
   "language": "python",
   "name": "python3"
  },
  "language_info": {
   "codemirror_mode": {
    "name": "ipython",
    "version": 3
   },
   "file_extension": ".py",
   "mimetype": "text/x-python",
   "name": "python",
   "nbconvert_exporter": "python",
   "pygments_lexer": "ipython3",
   "version": "3.8.8"
  }
 },
 "nbformat": 4,
 "nbformat_minor": 5
}
